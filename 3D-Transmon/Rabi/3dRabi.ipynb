{
 "cells": [
  {
   "cell_type": "code",
   "execution_count": 2,
   "id": "e626d59a-1c62-45c9-af9c-a75679553246",
   "metadata": {},
   "outputs": [],
   "source": [
    "import numpy as np\n",
    "import matplotlib.pyplot as plt\n",
    "from scipy.optimize import curve_fit\n",
    "import Qore as qr\n",
    "\n",
    "plt.rcParams['mathtext.fontset'] = 'cm'\n",
    "plt.rcParams['font.family'] = 'STIXGeneral'\n",
    "plt.rcParams['axes.formatter.useoffset'] = False"
   ]
  },
  {
   "cell_type": "code",
   "execution_count": 2,
   "id": "8ca7cf46-d1af-46b5-b51c-85fb5aedfd39",
   "metadata": {},
   "outputs": [
    {
     "data": {
      "text/plain": [
       "True"
      ]
     },
     "execution_count": 2,
     "metadata": {},
     "output_type": "execute_result"
    }
   ],
   "source": [
    "import os\n",
    "import numpy as np\n",
    "import matplotlib.pyplot as plt\n",
    "from scipy.optimize import curve_fit\n",
    "import Qore as qr\n",
    "\n",
    "plt.rcParams['mathtext.fontset'] = 'cm'\n",
    "plt.rcParams['font.family'] = 'STIXGeneral'\n",
    "plt.rcParams['axes.formatter.useoffset'] = Falseos.path.isfile('8_9_2024_timedomain_rabi_3dtransmon_amp=10000.dat')"
   ]
  },
  {
   "cell_type": "code",
   "execution_count": null,
   "id": "6139dd23-3324-402f-ba1f-6ae00dd48f60",
   "metadata": {},
   "outputs": [
    {
     "name": "stdout",
     "output_type": "stream",
     "text": [
      "----FIT RESULTS----\n",
      "T = 1.67E+03\n",
      "omega = 3.98E-02\n",
      "----FIT RESULTS----\n",
      "T = 1.19E+12\n",
      "omega = 3.38E-04\n"
     ]
    }
   ],
   "source": [
    "import numpy as np\n",
    "import matplotlib.pyplot as plt\n",
    "from scipy.optimize import curve_fit\n",
    "#import Qore as qr\n",
    "\n",
    "plt.rcParams['mathtext.fontset'] = 'cm'\n",
    "plt.rcParams['font.family'] = 'STIXGeneral'\n",
    "plt.rcParams['axes.formatter.useoffset'] = False\n",
    "\n",
    "# Rabifit\n",
    "def RabiFit(Data, Output = True):\n",
    "    Time = Data[:,0]\n",
    "    HeterodynSignal = Data[:,1]\n",
    "    a_guess = (np.max(HeterodynSignal) - np.min(HeterodynSignal))/2\n",
    "    phi0_guess = 0\n",
    "    T_guess = Time[-1]/5\n",
    "    c_guess = HeterodynSignal[-1]\n",
    "    omega_guess = 6.28/(2*np.abs(Time[np.argmax(HeterodynSignal)] - Time[np.argmin(HeterodynSignal)]))\n",
    "\n",
    "    popt, pcov = curve_fit(lambda t, a, T, c, omega, phi0: a * np.cos(omega*t+phi0) * np.exp(-t/T) + c, Time, HeterodynSignal, p0=(a_guess, T_guess, c_guess, omega_guess, phi0_guess))\n",
    "    a_fit = popt[0]\n",
    "    T_fit = popt[1]\n",
    "    c_fit = popt[2]\n",
    "    omega_fit = popt[3]\n",
    "    phi0_fit = popt[4]\n",
    "    HeterodynSignalFitted = a_fit * np.cos(omega_fit*Time+phi0_fit)* np.exp(-Time/T_fit) + c_fit\n",
    "    if Output == True:\n",
    "        print('----FIT RESULTS----')\n",
    "        print('T = %.2E'% T_fit)\n",
    "        print('omega = %.2E'% omega_fit)\n",
    "        plt.figure(figsize = [11,5])\n",
    "        plt.scatter(Time,HeterodynSignal, s=0.7, color='black');  \n",
    "        plt.plot(Time, HeterodynSignalFitted, color='dodgerblue');\n",
    "        plt.grid(which = 'both')\n",
    "        plt.minorticks_on()\n",
    "        plt.title(f'{file_name}')\n",
    "        plt.xlabel(\"Pulse Length (ns)\")\n",
    "        plt.ylabel('Heterodyne V [ADCU]')\n",
    "    return T_fit\n",
    "\n",
    "# List of file names\n",
    "file_names = [\n",
    "    '9_5_2024_timedomain_lengthrabi_3dtransmon_square_amp=5000.dat',\n",
    "    '9_5_2024_timedomain_rabi_3dtransmon_gaussian_sigma=50ns.dat'\n",
    "]\n",
    "\n",
    "# Loop through each file\n",
    "for file_name in file_names:\n",
    "    Data = np.loadtxt(file_name, delimiter=',')\n",
    "    RabiFit(Data, Output = True)\n",
    "\n",
    "\n",
    "#plt.savefig(\"RabiFit10k\",facecolor=\"w\")\n"
   ]
  }
 ],
 "metadata": {
  "kernelspec": {
   "display_name": "anaconda-panel-2023.05-py310",
   "language": "python",
   "name": "conda-env-anaconda-panel-2023.05-py310-py"
  },
  "language_info": {
   "codemirror_mode": {
    "name": "ipython",
    "version": 3
   },
   "file_extension": ".py",
   "mimetype": "text/x-python",
   "name": "python",
   "nbconvert_exporter": "python",
   "pygments_lexer": "ipython3",
   "version": "3.11.5"
  }
 },
 "nbformat": 4,
 "nbformat_minor": 5
}
