{
 "cells": [
  {
   "cell_type": "markdown",
   "id": "bd7aed08-3372-4dc5-86f6-bbb9f21159e1",
   "metadata": {},
   "source": [
    "# Fit Resonator Cavity 3D"
   ]
  },
  {
   "cell_type": "code",
   "execution_count": null,
   "id": "1483fb85-9cd0-4aa0-b566-70d349f8c1ef",
   "metadata": {},
   "outputs": [],
   "source": [
    "import Qore as qr\n",
    "import numpy as np\n",
    "import scqubits as scq"
   ]
  },
  {
   "cell_type": "code",
   "execution_count": null,
   "id": "893e3641-b28c-420a-a549-46b419a637be",
   "metadata": {},
   "outputs": [],
   "source": [
    "FileName = \"TransmonCavity\\\\8_9_S21_40dBAtt_40dBRatio_7p78414GHz_7p78419GHz_Thruline_avg100_13mK\"\n",
    "data = np.loadtxt(FileName)\n",
    "fr = data[:,0]\n",
    "S21_thru = data[:,1]\n",
    "FileName = \"TransmonCavity\\\\8_9_S21_40dBAtt_40dBRatio_7p78414GHz_7p78419GHz_VNA_NotCalibrated_avg100_13mK\"\n",
    "data = np.loadtxt(FileName)\n",
    "S21_device_NC = data[:,1]\n",
    "S21_device_Calibrated = S21_device_NC-S21_thru"
   ]
  },
  {
   "cell_type": "code",
   "execution_count": null,
   "id": "5528d305-a9fc-4866-b21f-f89c227dfba1",
   "metadata": {},
   "outputs": [],
   "source": [
    "fr0, Qt, Qe, Qi = qr.Resonator3DCavityFit(fr, S21_device_Calibrated, PwrRange = 20)"
   ]
  },
  {
   "cell_type": "markdown",
   "id": "27a59928-95ce-4915-9cfc-090eb0bc0fd7",
   "metadata": {},
   "source": [
    "# Fit coplanar resonator with high Qi"
   ]
  },
  {
   "cell_type": "code",
   "execution_count": null,
   "id": "47dd0c7a-4dd1-463a-a9fa-443074277890",
   "metadata": {},
   "outputs": [],
   "source": [
    "FileName = \"CoplanarHighQ\\\\8_2_2023_S21vsPow_VNA_5p7993GHz_5p8GHz_0dBto40dBatten_40dBratio_Device_T=12mK\"\n",
    "data = np.loadtxt(FileName)\n",
    "fr = data[0,1:]\n",
    "S21 = data[3,1:]"
   ]
  },
  {
   "cell_type": "code",
   "execution_count": null,
   "id": "90a279d1-396f-4e73-af9d-5ddd17862109",
   "metadata": {},
   "outputs": [],
   "source": [
    "qr.ResonatorHangerFit(fr, S21, PwrRange = 20); \n",
    "#PwrRange sets power below estimated reference level A. For a good fit of A and Qe, it is suggested PwrRange = None"
   ]
  },
  {
   "cell_type": "markdown",
   "id": "135b2e20-239a-443f-8819-e0826018ce57",
   "metadata": {},
   "source": [
    "# Fit vs power"
   ]
  },
  {
   "cell_type": "code",
   "execution_count": null,
   "id": "bc379531-a266-4db5-b02a-5c343a35fbe9",
   "metadata": {},
   "outputs": [],
   "source": [
    "FileName = \"BombardedResonators\\\\10_15_2023_VNA_S21vsAeroflexatten40dBRatio_Dev1_40to50dB_2dBstep_10mK\"\n",
    "data = np.loadtxt(FileName)\n",
    "qr.ResonatorHangerVsPower(data, PwrRange = None);\n",
    "#PwrRange sets power below estimated reference level A. For a good fit of A and Qe, it is suggested PwrRange = None"
   ]
  },
  {
   "cell_type": "markdown",
   "id": "bde5ed02-d772-45a6-baea-7806a426beab",
   "metadata": {},
   "source": [
    "# Asymmetric fit of Hanger resonators"
   ]
  },
  {
   "cell_type": "code",
   "execution_count": null,
   "id": "5d07de63-453e-4a16-a121-83862330e6b0",
   "metadata": {},
   "outputs": [],
   "source": [
    "FileName = \"CoplanarAsymmetric\\\\10_31_2023_S21vsaeroflexatten_40dBRatio_Att0dBto50dB_5p9305-5p9345GHz_20mK\"\n",
    "data = np.loadtxt(FileName)\n",
    "fr = data[0,1:]\n",
    "S21 = data[2,1:]\n",
    "qr.ResonatorHangerAsymmetricFit(fr, S21, PwrRange = 20);"
   ]
  },
  {
   "cell_type": "code",
   "execution_count": null,
   "id": "149c09f9-ce37-48b1-bf67-306ae72a7bba",
   "metadata": {},
   "outputs": [],
   "source": [
    "qr.ResonatorHangerAsymmetricFitvsPower(data, PwrRange = None);"
   ]
  },
  {
   "cell_type": "markdown",
   "id": "c5a4faf4",
   "metadata": {},
   "source": [
    "# Qubit energy decay, T1 fit"
   ]
  },
  {
   "cell_type": "code",
   "execution_count": null,
   "id": "5087e3b0",
   "metadata": {
    "scrolled": false
   },
   "outputs": [],
   "source": [
    "FileName = \"QubitTimeDomain/T1.dat\"\n",
    "Data = np.loadtxt(FileName, delimiter=',')\n",
    "qr.EnergyDecayFit(Data, Output = True)"
   ]
  },
  {
   "cell_type": "markdown",
   "id": "3cf88bb1",
   "metadata": {},
   "source": [
    "# Rabi Fit"
   ]
  },
  {
   "cell_type": "code",
   "execution_count": null,
   "id": "aa306d5d",
   "metadata": {},
   "outputs": [],
   "source": [
    "FileName = \"QubitTimeDomain/Rabi10000.dat\"\n",
    "Data = np.loadtxt(FileName, delimiter=',')\n",
    "qr.RabiFit(Data, Output = True)"
   ]
  },
  {
   "cell_type": "markdown",
   "id": "21a419e7",
   "metadata": {},
   "source": [
    "# Transmon f01 and alpha fitting"
   ]
  },
  {
   "cell_type": "markdown",
   "id": "707c32d2",
   "metadata": {},
   "source": [
    "Consider experimental spectroscopy where f01 = 4.98  GHz and alpha = 0.66 GHz.\n",
    "\n",
    "Fit these numbers to get EJ and EC"
   ]
  },
  {
   "cell_type": "code",
   "execution_count": null,
   "id": "46529c62",
   "metadata": {},
   "outputs": [],
   "source": [
    "EJ, EC, f01_numeric, alpha_numeric, chi2 = qr.TransmonFitting(f01_data=4.98, alpha_data=0.66, Acc = 1e-9, Verbose = True);"
   ]
  },
  {
   "cell_type": "code",
   "execution_count": null,
   "id": "0d35c243",
   "metadata": {},
   "outputs": [],
   "source": []
  },
  {
   "cell_type": "code",
   "execution_count": null,
   "id": "009bb4aa",
   "metadata": {},
   "outputs": [],
   "source": []
  }
 ],
 "metadata": {
  "kernelspec": {
   "display_name": "Python 3 (ipykernel)",
   "language": "python",
   "name": "python3"
  },
  "language_info": {
   "codemirror_mode": {
    "name": "ipython",
    "version": 3
   },
   "file_extension": ".py",
   "mimetype": "text/x-python",
   "name": "python",
   "nbconvert_exporter": "python",
   "pygments_lexer": "ipython3",
   "version": "3.11.5"
  }
 },
 "nbformat": 4,
 "nbformat_minor": 5
}
